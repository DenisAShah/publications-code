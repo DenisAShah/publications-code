{
 "cells": [
  {
   "cell_type": "markdown",
   "id": "0e7c0868",
   "metadata": {},
   "source": [
    "# Sensitivity Analyses for Means or Proportions with Missing Data\n",
    "\n",
    "Paul Zivich (2023/01/24)"
   ]
  },
  {
   "cell_type": "code",
   "execution_count": 1,
   "id": "70e80826",
   "metadata": {},
   "outputs": [
    {
     "name": "stdout",
     "output_type": "stream",
     "text": [
      "NumPy:        1.22.2\n",
      "SciPy:        1.9.2\n",
      "Pandas:       1.4.1\n",
      "Delicatessen: 1.1\n"
     ]
    }
   ],
   "source": [
    "import warnings\n",
    "import numpy as np\n",
    "import scipy as sp\n",
    "import pandas as pd\n",
    "import matplotlib.pyplot as plt\n",
    "%matplotlib inline\n",
    "import delicatessen as deli\n",
    "from delicatessen import MEstimator\n",
    "from delicatessen.utilities import inverse_logit\n",
    "\n",
    "# Ignore annoying warning about pandas.append depreciation\n",
    "warnings.simplefilter(action='ignore', category=FutureWarning)\n",
    "\n",
    "print(\"NumPy:       \", np.__version__)\n",
    "print(\"SciPy:       \", sp.__version__)\n",
    "print(\"Pandas:      \", pd.__version__)\n",
    "print(\"Delicatessen:\", deli.__version__)"
   ]
  },
  {
   "cell_type": "markdown",
   "id": "15be2633",
   "metadata": {},
   "source": [
    "## Loading data"
   ]
  },
  {
   "cell_type": "code",
   "execution_count": 2,
   "id": "1427c053",
   "metadata": {},
   "outputs": [],
   "source": [
    "d = pd.read_csv(\"lau_wihs.dat\", sep=\"\\s+\",\n",
    "                header=None, names=[\"id\", \"black\", \"age\", \"cd4\", \"cd41\", \"cd42\", \"cd43\", \"cd44\"])\n",
    "\n",
    "# Force CD4 to be numeric (errors=coerce is fine here)\n",
    "#    The SAS '.' indicator for missing makes it object in pandas\n",
    "#    but this causes issues later on down the line if not converted.\n",
    "d['cd41'] = pd.to_numeric(d['cd41'], errors='coerce')\n",
    "d['cd42'] = pd.to_numeric(d['cd42'], errors='coerce')\n",
    "d['cd43'] = pd.to_numeric(d['cd43'], errors='coerce')\n",
    "d['cd44'] = pd.to_numeric(d['cd44'], errors='coerce')\n",
    "\n",
    "# Adding intercept / constant term to the data\n",
    "d['intercept'] = 1"
   ]
  },
  {
   "cell_type": "markdown",
   "id": "9fe3377e",
   "metadata": {},
   "source": [
    "## Creating some helper functions\n",
    "Defining the estimating equations for use with `delicatessen`. \n",
    "\n",
    "Note: the following estimating equation is abstracted to support both no-covariate (examples 1-2) and covariate (example 3) implementations."
   ]
  },
  {
   "cell_type": "code",
   "execution_count": 3,
   "id": "9b61fe0c",
   "metadata": {},
   "outputs": [],
   "source": [
    "def q_function(y_vals, alpha):\n",
    "    return alpha*np.where(np.isnan(y_vals), 0, y_vals)\n",
    "\n",
    "\n",
    "def ee_sensitivity_analysis(theta, delta, y, X, qy, bound_function):\n",
    "    r\"\"\"Robins's sensitivity analysis as an estimating equation\n",
    "\n",
    "    Parameters\n",
    "    ----------\n",
    "    theta : ndarray, list, vector\n",
    "        Theta in this case consists of 1+b values. Therefore, initial values should consist of one plus the number of\n",
    "        columns present in ``X``. This can easily be accomplished generally by ``[0, ] + [0, ] * X.shape[1]``.\n",
    "    delta : ndarray, list, vector\n",
    "        1-dimensional vector of n observed values indicating whether the observation has a value for ``y`` observed,\n",
    "        where 1 indicates yes and 0 indicated no. No ``nan``'s / missing data should be included.\n",
    "    y : ndarray, list, vector\n",
    "        1-dimensional vector of n values. No missing data should be included. As ``y`` will actually be missing, generic\n",
    "        values should be used to replace the ``nan`` observations for the optimization procedure. These placeholder\n",
    "        values will be effectively ignored. For example, use ``y[1-delta] = -999``.\n",
    "    X : ndarray, list, vector\n",
    "        2-dimensional vector of n observed values for b variables consider as predictors. At a minimum, a vector of ones\n",
    "        (the intercept) should be included. No missing data should be included.\n",
    "    qy : ndarray, list, vector\n",
    "        1-dimensional vector of n values of shifts in the model based on the :math:`q(Y; \\alpha)` function. No missing\n",
    "        data should occur.\n",
    "    bound_function : function\n",
    "        Function use to bound the observations. The function must be monotonic increasing and be bounded by 0,1. For\n",
    "        example, the expit (inverse-logit) function meets this criteria.\n",
    "    \"\"\"\n",
    "    delta = np.asarray(delta)[:, None]       # Convert to NumPy array and ensure correct shape for matrix algebra\n",
    "    y = np.asarray(y)[:, None]               # Convert to NumPy array and ensure correct shape for matrix algebra\n",
    "    X = np.asarray(X)                        # Convert to NumPy array\n",
    "    qy = np.asarray(qy)[:, None]             # Convert to NumPy array and ensure correct shape for matrix algebra\n",
    "    beta = np.asarray(theta[1:])[:, None]    # Convert to NumPy array and ensure correct shape for matrix algebra\n",
    "\n",
    "    # Predicted values from design matrix and nuisance coefficients\n",
    "    pred_values = np.dot(X, beta)            # dot product to get quickly (like regression)\n",
    "\n",
    "    # Solving for the sensitivity analysis mean\n",
    "    numerator = delta * y                                 # Numerator\n",
    "    denominator = bound_function(pred_values + qy)        # Denominator\n",
    "    mean = np.nan_to_num(numerator / denominator,         # Sensitivity analysis estimating equation\n",
    "                         copy=False, nan=0.) - theta[0]   # ... and setting missing as zero's\n",
    "\n",
    "    # Solving for intercept and coefficients of model\n",
    "    h_params = (delta / bound_function(pred_values + qy) - 1)*X   # Multiply by X to keep dims the same\n",
    "    \n",
    "    # Returning stacked estimating equations\n",
    "    return np.vstack((mean.T,       # theta[0] is the sensitivity analysis mean\n",
    "                      h_params.T))  # theta[1:] is (are) the nuisance parameter(s)"
   ]
  },
  {
   "cell_type": "markdown",
   "id": "eb28a986",
   "metadata": {},
   "source": [
    "## Example 1: Mean CD4 cell count"
   ]
  },
  {
   "cell_type": "code",
   "execution_count": 4,
   "id": "06aa1473",
   "metadata": {},
   "outputs": [],
   "source": [
    "def psi(theta):\n",
    "    # Specify estimating equation for delicatessen\n",
    "    return ee_sensitivity_analysis(theta=theta,   # Passing parameters forward\n",
    "                                   delta=delta,   # Indicator of missing\n",
    "                                   y=y,           # Variable of interest\n",
    "                                   X=X,           # Intercept-only design matrix\n",
    "                                   # The q function used in the paper\n",
    "                                   qy=q_function(y_vals=y, alpha=alpha),\n",
    "                                   # The H function used in the paper\n",
    "                                   bound_function=inverse_logit)"
   ]
  },
  {
   "cell_type": "code",
   "execution_count": 5,
   "id": "7a3445c6",
   "metadata": {},
   "outputs": [
    {
     "data": {
      "image/png": "[encoded data removed]",
      "text/plain": [
       "<Figure size 360x540 with 3 Axes>"
      ]
     },
     "metadata": {
      "needs_background": "light"
     },
     "output_type": "display_data"
    }
   ],
   "source": [
    "# Setting up parts to generate the figure\n",
    "plot_ids = [311, 312, 313]       # Plot IDs (3 stacked plots)\n",
    "plt.figure(figsize=[5, 7.5])     # Figure size to use\n",
    "\n",
    "# Looping over the 3 scenarios\n",
    "for ids in plot_ids:\n",
    "    # Loading the corresponding outcome for the scenario\n",
    "    if ids == 311:\n",
    "        y = np.asarray(d['cd43'])\n",
    "        true_alpha = -0.01\n",
    "    elif ids == 312:\n",
    "        y = np.asarray(d['cd41'])\n",
    "        true_alpha = 0.0\n",
    "    elif ids == 313:\n",
    "        y = np.asarray(d['cd42'])\n",
    "        true_alpha = 0.01\n",
    "    else:\n",
    "        raise ValueError(\"Invalid plot_ids\")\n",
    "\n",
    "    # Extracting to NumPy arrays for delicatessen\n",
    "    delta = np.where(np.isnan(y), 0, 1)   # Creating missing indicator\n",
    "    X = np.asarray(d[['intercept']])      # Intercept-only design matrix\n",
    "    \n",
    "    # Calculating the corresponding upper and lower bounds for plot\n",
    "    y_upper = np.mean(np.where(delta == 0, np.nanmax(y), y))\n",
    "    y_lower = np.mean(np.where(delta == 0, np.nanmin(y), y))\n",
    "\n",
    "    # Storage for sensitivity analysis results\n",
    "    results = pd.DataFrame(columns=['alpha', 'estimate', 'lcl', 'ucl'])\n",
    "\n",
    "    # Conducting sensitivity analysis\n",
    "    #   (working out from center to the extremes for init vals)\n",
    "    alphas = np.linspace(0, 0.05, 100)   # Upper range of alphas\n",
    "    prev_optim = [0., 0.]                # Init storage for previous loop values\n",
    "    for alpha in alphas:\n",
    "        # Solve the current M-estimator\n",
    "        mest = MEstimator(psi, init=prev_optim)\n",
    "        mest.estimate(solver='lm')\n",
    "        # Store current theta as the starting values of root-finding for next loop\n",
    "        prev_optim = mest.theta\n",
    "        # Store the results in the storage data frame\n",
    "        results = results.append({'alpha': alpha,\n",
    "                                  'estimate': mest.theta[0],\n",
    "                                  'lcl': mest.confidence_intervals()[0][0],\n",
    "                                  'ucl': mest.confidence_intervals()[0][1]},\n",
    "                                 ignore_index=True)\n",
    "    \n",
    "    alphas = np.linspace(0, -0.05, 100)  # Repeating for lower range of alphas\n",
    "    prev_optim = [0., 0.]                # Init storage for previous loop values\n",
    "    for alpha in alphas:\n",
    "        # Solve the current M-estimator\n",
    "        mest = MEstimator(psi, init=prev_optim)\n",
    "        mest.estimate(solver='lm')\n",
    "        # Store current theta as the starting values of root-finding for next loop\n",
    "        prev_optim = mest.theta\n",
    "        # Store the results in the storage data frame\n",
    "        results = results.append({'alpha': alpha,\n",
    "                                  'estimate': mest.theta[0],\n",
    "                                  'lcl': mest.confidence_intervals()[0][0],\n",
    "                                  'ucl': mest.confidence_intervals()[0][1]},\n",
    "                                 ignore_index=True)\n",
    "\n",
    "    # Sorting results by alpha for plotting step\n",
    "    results = results.sort_values(by='alpha', ignore_index=True)\n",
    "    # Force-convert to numeric to prevent any issues in plotting\n",
    "    for c in results.columns:\n",
    "        results[c] = pd.to_numeric(results[c])\n",
    "    \n",
    "    # Create the corresponding sub-plot\n",
    "    plt.subplot(ids)\n",
    "    plt.hlines(y_upper, -0.5, 0.5, colors='gray', linestyles='--')\n",
    "    plt.hlines(y_lower, -0.5, 0.5, colors='gray', linestyles='--')\n",
    "    plt.vlines(true_alpha, 0, 1000, colors='gray', linestyles='-')\n",
    "    plt.fill_between(results['alpha'], results['lcl'], results['ucl'],\n",
    "                     color='blue', alpha=0.2)\n",
    "    plt.plot(results['alpha'], results['estimate'], '-', color='blue')\n",
    "    plt.ylim([0, 1000])\n",
    "    plt.ylabel(r\"Mean CD4 cells / mm$^3$\")\n",
    "    plt.xlim([-0.05, 0.05])\n",
    "    plt.xlabel(r\"$\\alpha$\")\n",
    "\n",
    "\n",
    "plt.tight_layout()"
   ]
  },
  {
   "cell_type": "markdown",
   "id": "b1ddd143",
   "metadata": {},
   "source": [
    "## Example 2: Proportion of CD4 counts below 200 cells/mm$^3$"
   ]
  },
  {
   "cell_type": "code",
   "execution_count": 6,
   "id": "68a43e29",
   "metadata": {},
   "outputs": [],
   "source": [
    "def psi(theta):\n",
    "    # Specify estimating equation for delicatessen\n",
    "    return ee_sensitivity_analysis(theta=theta,   # Passing parameters forward\n",
    "                                   delta=delta,   # Indicator of missing\n",
    "                                   y=y_bin,       # Variable of interest (binary)\n",
    "                                   X=X,           # Intercept-only design matrix\n",
    "                                   # The q function used in the paper\n",
    "                                   qy=q_function(y_vals=y, alpha=alpha),\n",
    "                                   # The H function used in the paper\n",
    "                                   bound_function=inverse_logit)"
   ]
  },
  {
   "cell_type": "code",
   "execution_count": 7,
   "id": "728910c7",
   "metadata": {},
   "outputs": [
    {
     "data": {
      "image/png": "[encoded data removed]",
      "text/plain": [
       "<Figure size 360x540 with 3 Axes>"
      ]
     },
     "metadata": {
      "needs_background": "light"
     },
     "output_type": "display_data"
    }
   ],
   "source": [
    "# Setting up parts to generate the figure\n",
    "plot_ids = [311, 312, 313]       # Plot IDs (3 stacked plots)\n",
    "plt.figure(figsize=[5, 7.5])     # Figure size to use\n",
    "\n",
    "# Looping over the 3 scenarios\n",
    "for ids in plot_ids:\n",
    "    # Loading the corresponding outcome for the scenario\n",
    "    if ids == 311:\n",
    "        y = np.asarray(d['cd43'])\n",
    "        true_alpha = -0.01\n",
    "    elif ids == 312:\n",
    "        y = np.asarray(d['cd41'])\n",
    "        true_alpha = 0.0\n",
    "    elif ids == 313:\n",
    "        y = np.asarray(d['cd42'])\n",
    "        true_alpha = 0.01\n",
    "    else:\n",
    "        raise ValueError(\"Invalid plot_ids\")\n",
    "\n",
    "    # Extracting to NumPy arrays for delicatessen\n",
    "    delta = np.where(np.isnan(y), 0, 1)  # Missing data indicator\n",
    "    X = np.asarray(d[['intercept']])     # Intercept-only design matrix\n",
    "    y_bin = np.where(y <= 200., 1, 0)    # Binary conversion of outcome\n",
    "\n",
    "    # Calculating the corresponding upper and lower bounds for plot\n",
    "    y_upper = np.mean(np.where((delta == 0) + (y <= 200.), 1, 0))\n",
    "    y_lower = np.mean(np.where((delta == 1) * (y <= 200.), 1, 0))\n",
    "\n",
    "    # Storage for sensitivity analysis results\n",
    "    results = pd.DataFrame(columns=['alpha', 'estimate', 'lcl', 'ucl'])\n",
    "\n",
    "    # Conducting sensitivity analysis\n",
    "    #   (working out from center to the extremes for init vals)\n",
    "    alphas = np.linspace(0, 0.05, 100)  # Upper range of alphas\n",
    "    prev_optim = [0., 0.]               # Init storage for previous loop values\n",
    "    for alpha in alphas:\n",
    "        # Solve the current M-estimator\n",
    "        mest = MEstimator(psi, init=prev_optim)\n",
    "        mest.estimate(solver='lm')\n",
    "        # Store current theta as the starting values of root-finding for next loop\n",
    "        prev_optim = mest.theta\n",
    "        # Store the results in the storage data frame\n",
    "        results = results.append({'alpha': alpha,\n",
    "                                  'estimate': mest.theta[0],\n",
    "                                  'lcl': mest.confidence_intervals()[0][0],\n",
    "                                  'ucl': mest.confidence_intervals()[0][1]},\n",
    "                                 ignore_index=True)\n",
    "\n",
    "    alphas = np.linspace(0, -0.02, 100)  # Lower range of alphas\n",
    "    prev_optim = [0., 0.]                # Init storage for previous loop values\n",
    "    for alpha in alphas:\n",
    "        # Solve the current M-estimator\n",
    "        mest = MEstimator(psi, init=prev_optim)\n",
    "        mest.estimate(solver='lm')\n",
    "        # Store current theta as the starting values of root-finding for next loop\n",
    "        prev_optim = mest.theta\n",
    "        # Store the results in the storage data frame\n",
    "        results = results.append({'alpha': alpha,\n",
    "                                  'estimate': mest.theta[0],\n",
    "                                  'lcl': mest.confidence_intervals()[0][0],\n",
    "                                  'ucl': mest.confidence_intervals()[0][1]},\n",
    "                                 ignore_index=True)\n",
    "\n",
    "    # Sorting results by alpha for plot\n",
    "    results = results.sort_values(by='alpha', ignore_index=True)\n",
    "    # Force-convert to numeric to prevent any issues in plotting\n",
    "    for c in results.columns:\n",
    "        results[c] = pd.to_numeric(results[c])\n",
    "    \n",
    "    # Create corresponding sub-plot\n",
    "    plt.subplot(ids)\n",
    "    plt.hlines(y_upper, -6, 6, colors='gray', linestyles='--')\n",
    "    plt.hlines(y_lower, -6, 6, colors='gray', linestyles='--')\n",
    "    plt.vlines(true_alpha, 0, 0.6, colors='gray', linestyles='-')\n",
    "    plt.fill_between(results['alpha'], results['lcl'], results['ucl'],\n",
    "                     color='blue', alpha=0.2)\n",
    "    plt.plot(results['alpha'], results['estimate'], '-', color='blue')\n",
    "    plt.ylim([0, 0.6])\n",
    "    plt.ylabel(r\"CD4 <= 200 cells / mm$^3$\")\n",
    "    plt.xlim([-0.02, 0.05])\n",
    "    plt.xlabel(r\"$\\alpha$\")\n",
    "\n",
    "\n",
    "plt.tight_layout()"
   ]
  },
  {
   "cell_type": "markdown",
   "id": "cd849da4",
   "metadata": {},
   "source": [
    "## Example 3: Proportion of CD4 counts below 200 cells/mm$^3$ with observed covariates"
   ]
  },
  {
   "cell_type": "code",
   "execution_count": 8,
   "id": "e1a904e2",
   "metadata": {},
   "outputs": [],
   "source": [
    "def psi(theta):\n",
    "    # Specify estimating equation for delicatessen\n",
    "    return ee_sensitivity_analysis(theta=theta,   # Passing parameters forward\n",
    "                                   delta=delta,   # Indicator of missing\n",
    "                                   y=y_bin,       # Variable of interest (binary)\n",
    "                                   X=X,           # Design matrix with covariates\n",
    "                                   # The q function used in the paper\n",
    "                                   qy=q_function(y_vals=y, alpha=alpha),\n",
    "                                   # The H function used in the paper\n",
    "                                   bound_function=inverse_logit)"
   ]
  },
  {
   "cell_type": "code",
   "execution_count": 9,
   "id": "8d28c755",
   "metadata": {},
   "outputs": [],
   "source": [
    "# Formatting variables for delicatessen\n",
    "delta = np.where(d['cd44'].isna(), 0, 1)            # Indicator of missingness\n",
    "y = np.asarray(d['cd44'])                           # Outcome array\n",
    "y_bin = np.where(y <= 200., 1, 0)                   # Converting to binary indicator\n",
    "d['age30'] = np.where(d['age'] <= 30, 0, 1)         # Categorizing age\n",
    "X = np.asarray(d[['intercept', 'age30', 'black']])  # Design matrix"
   ]
  },
  {
   "cell_type": "code",
   "execution_count": 10,
   "id": "4092dd95",
   "metadata": {},
   "outputs": [],
   "source": [
    "# Calculating the corresponding upper and lower bounds for plot\n",
    "y_upper = np.mean(np.where(delta == 0, 0, y_bin))\n",
    "y_lower = np.mean(np.where(delta == 0, 1, y_bin))"
   ]
  },
  {
   "cell_type": "code",
   "execution_count": 11,
   "id": "4ade75f1",
   "metadata": {},
   "outputs": [
    {
     "data": {
      "image/png": "[encoded data removed]",
      "text/plain": [
       "<Figure size 360x216 with 1 Axes>"
      ]
     },
     "metadata": {
      "needs_background": "light"
     },
     "output_type": "display_data"
    }
   ],
   "source": [
    "# Storage for sensitivity analysis results\n",
    "results = pd.DataFrame(columns=['alpha', 'estimate', 'lcl', 'ucl'])\n",
    "\n",
    "# Conducting sensitivity analysis\n",
    "#   (working out from center to the extremes for init vals)\n",
    "alphas = np.linspace(0, 0.12, 100)   # Upper range of alphas\n",
    "prev_optim = [0., 0., 0., 0.]        # Init storage for previous loop values\n",
    "for alpha in alphas:\n",
    "    # Solve the current M-estimator\n",
    "    mest = MEstimator(psi, init=prev_optim)\n",
    "    mest.estimate(solver='lm')\n",
    "    # Store current theta as the starting values of root-finding for next loop\n",
    "    prev_optim = mest.theta\n",
    "    # Store the results in the storage data frame\n",
    "    results = results.append({'alpha': alpha,\n",
    "                              'estimate': mest.theta[0],\n",
    "                              'lcl': mest.confidence_intervals()[0][0],\n",
    "                              'ucl': mest.confidence_intervals()[0][1]},\n",
    "                             ignore_index=True)\n",
    "\n",
    "alphas = np.linspace(0, -0.02, 20)   # Lower range of alphas\n",
    "prev_optim = [0., 0., 0., 0.]        # Init storage for previous loop values\n",
    "for alpha in alphas:\n",
    "    # Solve the current M-estimator\n",
    "    mest = MEstimator(psi, init=prev_optim)\n",
    "    mest.estimate(solver='lm')\n",
    "    # Store current theta as the starting values of root-finding for next loop\n",
    "    prev_optim = mest.theta\n",
    "    # Store the results in the storage data frame\n",
    "    results = results.append({'alpha': alpha,\n",
    "                              'estimate': mest.theta[0],\n",
    "                              'lcl': mest.confidence_intervals()[0][0],\n",
    "                              'ucl': mest.confidence_intervals()[0][1]},\n",
    "                             ignore_index=True)\n",
    "\n",
    "# Sorting results by alpha for plot\n",
    "results = results.sort_values(by='alpha')\n",
    "for c in results.columns:\n",
    "    results[c] = pd.to_numeric(results[c])\n",
    "\n",
    "# Plotting results\n",
    "plt.figure(figsize=[5, 7.5 / 2.5])\n",
    "plt.hlines(y_upper, -0.02, 0.12, colors='gray', linestyles='--')\n",
    "plt.hlines(y_lower, -0.02, 0.12, colors='gray', linestyles='--')\n",
    "plt.vlines(0.01, 0, 0.6, colors='gray', linestyles='-')\n",
    "plt.fill_between(results['alpha'], results['lcl'], results['ucl'],\n",
    "                 color='blue', alpha=0.2)\n",
    "plt.plot(results['alpha'], results['estimate'], '-', color='blue')\n",
    "plt.ylim([0, 0.6])\n",
    "plt.ylabel(r\"CD4 <= 200 cells / mm$^3$\")\n",
    "plt.xlim([-0.02, 0.12])\n",
    "plt.xlabel(r\"$\\alpha$\")\n",
    "\n",
    "plt.tight_layout()"
   ]
  },
  {
   "cell_type": "markdown",
   "id": "7af164b8",
   "metadata": {},
   "source": [
    "END"
   ]
  }
 ],
 "metadata": {
  "kernelspec": {
   "display_name": "Python 3 (ipykernel)",
   "language": "python",
   "name": "python3"
  },
  "language_info": {
   "codemirror_mode": {
    "name": "ipython",
    "version": 3
   },
   "file_extension": ".py",
   "mimetype": "text/x-python",
   "name": "python",
   "nbconvert_exporter": "python",
   "pygments_lexer": "ipython3",
   "version": "3.9.4"
  }
 },
 "nbformat": 4,
 "nbformat_minor": 5
}
